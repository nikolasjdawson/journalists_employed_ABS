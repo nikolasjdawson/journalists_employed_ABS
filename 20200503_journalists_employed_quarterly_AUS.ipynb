{
 "cells": [
  {
   "cell_type": "code",
   "execution_count": 5,
   "metadata": {},
   "outputs": [
    {
     "data": {
      "text/html": [
       "        <script type=\"text/javascript\">\n",
       "        window.PlotlyConfig = {MathJaxConfig: 'local'};\n",
       "        if (window.MathJax) {MathJax.Hub.Config({SVG: {font: \"STIX-Web\"}});}\n",
       "        if (typeof require !== 'undefined') {\n",
       "        require.undef(\"plotly\");\n",
       "        requirejs.config({\n",
       "            paths: {\n",
       "                'plotly': ['https://cdn.plot.ly/plotly-latest.min']\n",
       "            }\n",
       "        });\n",
       "        require(['plotly'], function(Plotly) {\n",
       "            window._Plotly = Plotly;\n",
       "        });\n",
       "        }\n",
       "        </script>\n",
       "        "
      ]
     },
     "metadata": {},
     "output_type": "display_data"
    },
    {
     "data": {
      "text/plain": [
       "'/Users/nikolasdawson/Documents/University/UTS/Journalism_Jobs/AUS/data'"
      ]
     },
     "execution_count": 5,
     "metadata": {},
     "output_type": "execute_result"
    }
   ],
   "source": [
    "import pandas as pd\n",
    "import numpy as np\n",
    "\n",
    "import plotly \n",
    "# import plotly.plotly as py\n",
    "import plotly.offline as py\n",
    "import plotly.graph_objs as go\n",
    "from plotly.subplots import make_subplots\n",
    "py.offline.init_notebook_mode(connected=True)\n",
    "from fbprophet.plot import plot_plotly\n",
    "import plotly.offline as py\n",
    "import plotly.offline as ofl\n",
    "import plotly.tools as tls\n",
    "\n",
    "#mute unimportant diagnostic messages\n",
    "import warnings\n",
    "warnings.filterwarnings('ignore')\n",
    "import logging\n",
    "logging.getLogger().setLevel(logging.ERROR)\n",
    "\n",
    "import os\n",
    "os.getcwd()"
   ]
  },
  {
   "cell_type": "markdown",
   "metadata": {},
   "source": [
    "## ABS Labour Force Data\n",
    "### Labour Force, Australia, Detailed, Quarterly, Nov 2019\n",
    "Unit Level: EQ08 - Employed persons by Occupation unit group of main job (ANZSCO), Sex, State and Territory, August 1986 onwards\n",
    "https://www.abs.gov.au/AUSSTATS/abs@.nsf/DetailsPage/6291.0.55.003Nov%202019?OpenDocument"
   ]
  },
  {
   "cell_type": "code",
   "execution_count": 2,
   "metadata": {},
   "outputs": [
    {
     "data": {
      "text/html": [
       "<div>\n",
       "<style scoped>\n",
       "    .dataframe tbody tr th:only-of-type {\n",
       "        vertical-align: middle;\n",
       "    }\n",
       "\n",
       "    .dataframe tbody tr th {\n",
       "        vertical-align: top;\n",
       "    }\n",
       "\n",
       "    .dataframe thead th {\n",
       "        text-align: right;\n",
       "    }\n",
       "</style>\n",
       "<table border=\"1\" class=\"dataframe\">\n",
       "  <thead>\n",
       "    <tr style=\"text-align: right;\">\n",
       "      <th></th>\n",
       "      <th>Mid-quarter month</th>\n",
       "      <th>Sex</th>\n",
       "      <th>State</th>\n",
       "      <th>ANZSCOUnitCode</th>\n",
       "      <th>ANZSCOUnitName</th>\n",
       "      <th>ANZSCOCombined</th>\n",
       "      <th>Employed total ('000)</th>\n",
       "      <th>Number of hours actually worked in all jobs ('000 Hours)</th>\n",
       "    </tr>\n",
       "  </thead>\n",
       "  <tbody>\n",
       "    <tr>\n",
       "      <th>0</th>\n",
       "      <td>1986-08-01</td>\n",
       "      <td>Males</td>\n",
       "      <td>New South Wales</td>\n",
       "      <td>1111</td>\n",
       "      <td>Chief Executives and Managing Directors</td>\n",
       "      <td>1111 Chief Executives and Managing Directors</td>\n",
       "      <td>10.373967</td>\n",
       "      <td>520.688181</td>\n",
       "    </tr>\n",
       "    <tr>\n",
       "      <th>1</th>\n",
       "      <td>1986-08-01</td>\n",
       "      <td>Males</td>\n",
       "      <td>New South Wales</td>\n",
       "      <td>1112</td>\n",
       "      <td>General Managers</td>\n",
       "      <td>1112 General Managers</td>\n",
       "      <td>9.112449</td>\n",
       "      <td>457.370343</td>\n",
       "    </tr>\n",
       "    <tr>\n",
       "      <th>2</th>\n",
       "      <td>1986-08-01</td>\n",
       "      <td>Males</td>\n",
       "      <td>New South Wales</td>\n",
       "      <td>1113</td>\n",
       "      <td>Legislators</td>\n",
       "      <td>1113 Legislators</td>\n",
       "      <td>0.856575</td>\n",
       "      <td>53.397057</td>\n",
       "    </tr>\n",
       "    <tr>\n",
       "      <th>3</th>\n",
       "      <td>1986-08-01</td>\n",
       "      <td>Males</td>\n",
       "      <td>New South Wales</td>\n",
       "      <td>1211</td>\n",
       "      <td>Aquaculture Farmers</td>\n",
       "      <td>1211 Aquaculture Farmers</td>\n",
       "      <td>0.349588</td>\n",
       "      <td>18.166174</td>\n",
       "    </tr>\n",
       "    <tr>\n",
       "      <th>4</th>\n",
       "      <td>1986-08-01</td>\n",
       "      <td>Males</td>\n",
       "      <td>New South Wales</td>\n",
       "      <td>1212</td>\n",
       "      <td>Crop Farmers</td>\n",
       "      <td>1212 Crop Farmers</td>\n",
       "      <td>9.303512</td>\n",
       "      <td>483.214122</td>\n",
       "    </tr>\n",
       "    <tr>\n",
       "      <th>...</th>\n",
       "      <td>...</td>\n",
       "      <td>...</td>\n",
       "      <td>...</td>\n",
       "      <td>...</td>\n",
       "      <td>...</td>\n",
       "      <td>...</td>\n",
       "      <td>...</td>\n",
       "      <td>...</td>\n",
       "    </tr>\n",
       "    <tr>\n",
       "      <th>622986</th>\n",
       "      <td>2019-11-01</td>\n",
       "      <td>Females</td>\n",
       "      <td>Australian Capital Territory</td>\n",
       "      <td>8113</td>\n",
       "      <td>Domestic Cleaners</td>\n",
       "      <td>8113 Domestic Cleaners</td>\n",
       "      <td>0.499780</td>\n",
       "      <td>8.032732</td>\n",
       "    </tr>\n",
       "    <tr>\n",
       "      <th>622987</th>\n",
       "      <td>2019-11-01</td>\n",
       "      <td>Females</td>\n",
       "      <td>Australian Capital Territory</td>\n",
       "      <td>8116</td>\n",
       "      <td>Other Cleaners</td>\n",
       "      <td>8116 Other Cleaners</td>\n",
       "      <td>0.343426</td>\n",
       "      <td>14.411873</td>\n",
       "    </tr>\n",
       "    <tr>\n",
       "      <th>622988</th>\n",
       "      <td>2019-11-01</td>\n",
       "      <td>Females</td>\n",
       "      <td>Australian Capital Territory</td>\n",
       "      <td>8513</td>\n",
       "      <td>Kitchenhands</td>\n",
       "      <td>8513 Kitchenhands</td>\n",
       "      <td>0.858586</td>\n",
       "      <td>22.624640</td>\n",
       "    </tr>\n",
       "    <tr>\n",
       "      <th>622989</th>\n",
       "      <td>2019-11-01</td>\n",
       "      <td>Females</td>\n",
       "      <td>Australian Capital Territory</td>\n",
       "      <td>8912</td>\n",
       "      <td>Shelf Fillers</td>\n",
       "      <td>8912 Shelf Fillers</td>\n",
       "      <td>0.823155</td>\n",
       "      <td>14.462972</td>\n",
       "    </tr>\n",
       "    <tr>\n",
       "      <th>622990</th>\n",
       "      <td>2019-11-01</td>\n",
       "      <td>Females</td>\n",
       "      <td>Australian Capital Territory</td>\n",
       "      <td>8999</td>\n",
       "      <td>Other Miscellaneous Labourers</td>\n",
       "      <td>8999 Other Miscellaneous Labourers</td>\n",
       "      <td>0.401831</td>\n",
       "      <td>9.875074</td>\n",
       "    </tr>\n",
       "  </tbody>\n",
       "</table>\n",
       "<p>622991 rows × 8 columns</p>\n",
       "</div>"
      ],
      "text/plain": [
       "       Mid-quarter month      Sex                         State  \\\n",
       "0             1986-08-01    Males               New South Wales   \n",
       "1             1986-08-01    Males               New South Wales   \n",
       "2             1986-08-01    Males               New South Wales   \n",
       "3             1986-08-01    Males               New South Wales   \n",
       "4             1986-08-01    Males               New South Wales   \n",
       "...                  ...      ...                           ...   \n",
       "622986        2019-11-01  Females  Australian Capital Territory   \n",
       "622987        2019-11-01  Females  Australian Capital Territory   \n",
       "622988        2019-11-01  Females  Australian Capital Territory   \n",
       "622989        2019-11-01  Females  Australian Capital Territory   \n",
       "622990        2019-11-01  Females  Australian Capital Territory   \n",
       "\n",
       "        ANZSCOUnitCode                           ANZSCOUnitName  \\\n",
       "0                 1111  Chief Executives and Managing Directors   \n",
       "1                 1112                         General Managers   \n",
       "2                 1113                              Legislators   \n",
       "3                 1211                      Aquaculture Farmers   \n",
       "4                 1212                             Crop Farmers   \n",
       "...                ...                                      ...   \n",
       "622986            8113                        Domestic Cleaners   \n",
       "622987            8116                           Other Cleaners   \n",
       "622988            8513                             Kitchenhands   \n",
       "622989            8912                            Shelf Fillers   \n",
       "622990            8999            Other Miscellaneous Labourers   \n",
       "\n",
       "                                      ANZSCOCombined  Employed total ('000)  \\\n",
       "0       1111 Chief Executives and Managing Directors              10.373967   \n",
       "1                              1112 General Managers               9.112449   \n",
       "2                                   1113 Legislators               0.856575   \n",
       "3                           1211 Aquaculture Farmers               0.349588   \n",
       "4                                  1212 Crop Farmers               9.303512   \n",
       "...                                              ...                    ...   \n",
       "622986                        8113 Domestic Cleaners               0.499780   \n",
       "622987                           8116 Other Cleaners               0.343426   \n",
       "622988                             8513 Kitchenhands               0.858586   \n",
       "622989                            8912 Shelf Fillers               0.823155   \n",
       "622990            8999 Other Miscellaneous Labourers               0.401831   \n",
       "\n",
       "        Number of hours actually worked in all jobs ('000 Hours)  \n",
       "0                                              520.688181         \n",
       "1                                              457.370343         \n",
       "2                                               53.397057         \n",
       "3                                               18.166174         \n",
       "4                                              483.214122         \n",
       "...                                                   ...         \n",
       "622986                                           8.032732         \n",
       "622987                                          14.411873         \n",
       "622988                                          22.624640         \n",
       "622989                                          14.462972         \n",
       "622990                                           9.875074         \n",
       "\n",
       "[622991 rows x 8 columns]"
      ]
     },
     "execution_count": 2,
     "metadata": {},
     "output_type": "execute_result"
    }
   ],
   "source": [
    "unit_quarterly = pd.read_csv('ANZSCOUnit_Quarterly.csv', header=0, sep=',', \n",
    "                             parse_dates=['Mid-quarter month'], dayfirst=True)\n",
    "unit_quarterly"
   ]
  },
  {
   "cell_type": "markdown",
   "metadata": {},
   "source": [
    "#### Filter for `Journalists and Other Writers` unit group, ANZSCOUnitCode = `2124`"
   ]
  },
  {
   "cell_type": "code",
   "execution_count": 4,
   "metadata": {},
   "outputs": [],
   "source": [
    "journalists = unit_quarterly[unit_quarterly['ANZSCOUnitCode'] == 2124]"
   ]
  },
  {
   "cell_type": "code",
   "execution_count": 6,
   "metadata": {},
   "outputs": [
    {
     "data": {
      "text/plain": [
       "Index(['Mid-quarter month', 'Sex', 'State', 'ANZSCOUnitCode', 'ANZSCOUnitName',\n",
       "       'ANZSCOCombined', 'Employed total ('000)',\n",
       "       'Number of hours actually worked in all jobs ('000 Hours)'],\n",
       "      dtype='object')"
      ]
     },
     "execution_count": 6,
     "metadata": {},
     "output_type": "execute_result"
    }
   ],
   "source": [
    "journalists.columns"
   ]
  },
  {
   "cell_type": "markdown",
   "metadata": {},
   "source": [
    "#### Group by `Mid-quarter month`, summing the `Sex` and `State` rows so we get national values"
   ]
  },
  {
   "cell_type": "code",
   "execution_count": 15,
   "metadata": {},
   "outputs": [
    {
     "data": {
      "text/html": [
       "<div>\n",
       "<style scoped>\n",
       "    .dataframe tbody tr th:only-of-type {\n",
       "        vertical-align: middle;\n",
       "    }\n",
       "\n",
       "    .dataframe tbody tr th {\n",
       "        vertical-align: top;\n",
       "    }\n",
       "\n",
       "    .dataframe thead th {\n",
       "        text-align: right;\n",
       "    }\n",
       "</style>\n",
       "<table border=\"1\" class=\"dataframe\">\n",
       "  <thead>\n",
       "    <tr style=\"text-align: right;\">\n",
       "      <th></th>\n",
       "      <th>Mid-quarter month</th>\n",
       "      <th>Employed total ('000)</th>\n",
       "      <th>Number of hours actually worked in all jobs ('000 Hours)</th>\n",
       "    </tr>\n",
       "  </thead>\n",
       "  <tbody>\n",
       "    <tr>\n",
       "      <th>0</th>\n",
       "      <td>1986-08-01</td>\n",
       "      <td>12.794435</td>\n",
       "      <td>504.504982</td>\n",
       "    </tr>\n",
       "    <tr>\n",
       "      <th>1</th>\n",
       "      <td>1986-11-01</td>\n",
       "      <td>14.231606</td>\n",
       "      <td>568.299381</td>\n",
       "    </tr>\n",
       "    <tr>\n",
       "      <th>2</th>\n",
       "      <td>1987-02-01</td>\n",
       "      <td>17.252471</td>\n",
       "      <td>666.641887</td>\n",
       "    </tr>\n",
       "    <tr>\n",
       "      <th>3</th>\n",
       "      <td>1987-05-01</td>\n",
       "      <td>14.664992</td>\n",
       "      <td>541.174778</td>\n",
       "    </tr>\n",
       "    <tr>\n",
       "      <th>4</th>\n",
       "      <td>1987-08-01</td>\n",
       "      <td>13.668324</td>\n",
       "      <td>525.456883</td>\n",
       "    </tr>\n",
       "    <tr>\n",
       "      <th>...</th>\n",
       "      <td>...</td>\n",
       "      <td>...</td>\n",
       "      <td>...</td>\n",
       "    </tr>\n",
       "    <tr>\n",
       "      <th>129</th>\n",
       "      <td>2018-11-01</td>\n",
       "      <td>23.369009</td>\n",
       "      <td>787.637604</td>\n",
       "    </tr>\n",
       "    <tr>\n",
       "      <th>130</th>\n",
       "      <td>2019-02-01</td>\n",
       "      <td>17.668741</td>\n",
       "      <td>528.341211</td>\n",
       "    </tr>\n",
       "    <tr>\n",
       "      <th>131</th>\n",
       "      <td>2019-05-01</td>\n",
       "      <td>19.709453</td>\n",
       "      <td>548.273350</td>\n",
       "    </tr>\n",
       "    <tr>\n",
       "      <th>132</th>\n",
       "      <td>2019-08-01</td>\n",
       "      <td>26.997818</td>\n",
       "      <td>832.728032</td>\n",
       "    </tr>\n",
       "    <tr>\n",
       "      <th>133</th>\n",
       "      <td>2019-11-01</td>\n",
       "      <td>24.902810</td>\n",
       "      <td>785.058412</td>\n",
       "    </tr>\n",
       "  </tbody>\n",
       "</table>\n",
       "<p>134 rows × 3 columns</p>\n",
       "</div>"
      ],
      "text/plain": [
       "    Mid-quarter month  Employed total ('000)  \\\n",
       "0          1986-08-01              12.794435   \n",
       "1          1986-11-01              14.231606   \n",
       "2          1987-02-01              17.252471   \n",
       "3          1987-05-01              14.664992   \n",
       "4          1987-08-01              13.668324   \n",
       "..                ...                    ...   \n",
       "129        2018-11-01              23.369009   \n",
       "130        2019-02-01              17.668741   \n",
       "131        2019-05-01              19.709453   \n",
       "132        2019-08-01              26.997818   \n",
       "133        2019-11-01              24.902810   \n",
       "\n",
       "     Number of hours actually worked in all jobs ('000 Hours)  \n",
       "0                                           504.504982         \n",
       "1                                           568.299381         \n",
       "2                                           666.641887         \n",
       "3                                           541.174778         \n",
       "4                                           525.456883         \n",
       "..                                                 ...         \n",
       "129                                         787.637604         \n",
       "130                                         528.341211         \n",
       "131                                         548.273350         \n",
       "132                                         832.728032         \n",
       "133                                         785.058412         \n",
       "\n",
       "[134 rows x 3 columns]"
      ]
     },
     "execution_count": 15,
     "metadata": {},
     "output_type": "execute_result"
    }
   ],
   "source": [
    "journalists_grouped = journalists.groupby(['Mid-quarter month']).sum()\n",
    "journalists_grouped = journalists_grouped.reset_index()\n",
    "#Drop the Unit Code now, we don't need it\n",
    "journalists_grouped = journalists_grouped.drop(columns=['ANZSCOUnitCode'])\n",
    "journalists_grouped"
   ]
  },
  {
   "cell_type": "code",
   "execution_count": 16,
   "metadata": {},
   "outputs": [
    {
     "data": {
      "text/html": [
       "<div>\n",
       "<style scoped>\n",
       "    .dataframe tbody tr th:only-of-type {\n",
       "        vertical-align: middle;\n",
       "    }\n",
       "\n",
       "    .dataframe tbody tr th {\n",
       "        vertical-align: top;\n",
       "    }\n",
       "\n",
       "    .dataframe thead th {\n",
       "        text-align: right;\n",
       "    }\n",
       "</style>\n",
       "<table border=\"1\" class=\"dataframe\">\n",
       "  <thead>\n",
       "    <tr style=\"text-align: right;\">\n",
       "      <th></th>\n",
       "      <th>Mid-quarter month</th>\n",
       "      <th>Employed total ('000)</th>\n",
       "      <th>Number of hours actually worked in all jobs ('000 Hours)</th>\n",
       "    </tr>\n",
       "  </thead>\n",
       "  <tbody>\n",
       "    <tr>\n",
       "      <th>102</th>\n",
       "      <td>2012-02-01</td>\n",
       "      <td>26.184923</td>\n",
       "      <td>926.638355</td>\n",
       "    </tr>\n",
       "    <tr>\n",
       "      <th>103</th>\n",
       "      <td>2012-05-01</td>\n",
       "      <td>31.768270</td>\n",
       "      <td>1168.440190</td>\n",
       "    </tr>\n",
       "    <tr>\n",
       "      <th>104</th>\n",
       "      <td>2012-08-01</td>\n",
       "      <td>32.453228</td>\n",
       "      <td>1175.121105</td>\n",
       "    </tr>\n",
       "    <tr>\n",
       "      <th>105</th>\n",
       "      <td>2012-11-01</td>\n",
       "      <td>27.622757</td>\n",
       "      <td>941.773591</td>\n",
       "    </tr>\n",
       "    <tr>\n",
       "      <th>106</th>\n",
       "      <td>2013-02-01</td>\n",
       "      <td>28.515415</td>\n",
       "      <td>942.216798</td>\n",
       "    </tr>\n",
       "    <tr>\n",
       "      <th>107</th>\n",
       "      <td>2013-05-01</td>\n",
       "      <td>15.986028</td>\n",
       "      <td>531.356315</td>\n",
       "    </tr>\n",
       "    <tr>\n",
       "      <th>108</th>\n",
       "      <td>2013-08-01</td>\n",
       "      <td>23.487987</td>\n",
       "      <td>807.733921</td>\n",
       "    </tr>\n",
       "    <tr>\n",
       "      <th>109</th>\n",
       "      <td>2013-11-01</td>\n",
       "      <td>21.199998</td>\n",
       "      <td>747.433897</td>\n",
       "    </tr>\n",
       "    <tr>\n",
       "      <th>110</th>\n",
       "      <td>2014-02-01</td>\n",
       "      <td>23.467102</td>\n",
       "      <td>807.547282</td>\n",
       "    </tr>\n",
       "    <tr>\n",
       "      <th>111</th>\n",
       "      <td>2014-05-01</td>\n",
       "      <td>26.634632</td>\n",
       "      <td>1010.085207</td>\n",
       "    </tr>\n",
       "    <tr>\n",
       "      <th>112</th>\n",
       "      <td>2014-08-01</td>\n",
       "      <td>21.799818</td>\n",
       "      <td>778.675320</td>\n",
       "    </tr>\n",
       "    <tr>\n",
       "      <th>113</th>\n",
       "      <td>2014-11-01</td>\n",
       "      <td>24.651401</td>\n",
       "      <td>880.273616</td>\n",
       "    </tr>\n",
       "    <tr>\n",
       "      <th>114</th>\n",
       "      <td>2015-02-01</td>\n",
       "      <td>22.003466</td>\n",
       "      <td>728.403673</td>\n",
       "    </tr>\n",
       "    <tr>\n",
       "      <th>115</th>\n",
       "      <td>2015-05-01</td>\n",
       "      <td>22.231301</td>\n",
       "      <td>796.172376</td>\n",
       "    </tr>\n",
       "    <tr>\n",
       "      <th>116</th>\n",
       "      <td>2015-08-01</td>\n",
       "      <td>25.062847</td>\n",
       "      <td>849.442394</td>\n",
       "    </tr>\n",
       "    <tr>\n",
       "      <th>117</th>\n",
       "      <td>2015-11-01</td>\n",
       "      <td>30.323120</td>\n",
       "      <td>1067.099322</td>\n",
       "    </tr>\n",
       "    <tr>\n",
       "      <th>118</th>\n",
       "      <td>2016-02-01</td>\n",
       "      <td>28.146502</td>\n",
       "      <td>906.024154</td>\n",
       "    </tr>\n",
       "    <tr>\n",
       "      <th>119</th>\n",
       "      <td>2016-05-01</td>\n",
       "      <td>23.984869</td>\n",
       "      <td>871.896006</td>\n",
       "    </tr>\n",
       "    <tr>\n",
       "      <th>120</th>\n",
       "      <td>2016-08-01</td>\n",
       "      <td>24.790099</td>\n",
       "      <td>677.032066</td>\n",
       "    </tr>\n",
       "    <tr>\n",
       "      <th>121</th>\n",
       "      <td>2016-11-01</td>\n",
       "      <td>24.136204</td>\n",
       "      <td>679.842839</td>\n",
       "    </tr>\n",
       "    <tr>\n",
       "      <th>122</th>\n",
       "      <td>2017-02-01</td>\n",
       "      <td>26.551243</td>\n",
       "      <td>866.448586</td>\n",
       "    </tr>\n",
       "    <tr>\n",
       "      <th>123</th>\n",
       "      <td>2017-05-01</td>\n",
       "      <td>24.448557</td>\n",
       "      <td>804.179717</td>\n",
       "    </tr>\n",
       "    <tr>\n",
       "      <th>124</th>\n",
       "      <td>2017-08-01</td>\n",
       "      <td>28.467692</td>\n",
       "      <td>914.158587</td>\n",
       "    </tr>\n",
       "    <tr>\n",
       "      <th>125</th>\n",
       "      <td>2017-11-01</td>\n",
       "      <td>29.106129</td>\n",
       "      <td>935.066704</td>\n",
       "    </tr>\n",
       "    <tr>\n",
       "      <th>126</th>\n",
       "      <td>2018-02-01</td>\n",
       "      <td>24.021422</td>\n",
       "      <td>846.924384</td>\n",
       "    </tr>\n",
       "    <tr>\n",
       "      <th>127</th>\n",
       "      <td>2018-05-01</td>\n",
       "      <td>22.102932</td>\n",
       "      <td>674.001950</td>\n",
       "    </tr>\n",
       "    <tr>\n",
       "      <th>128</th>\n",
       "      <td>2018-08-01</td>\n",
       "      <td>23.865832</td>\n",
       "      <td>777.666833</td>\n",
       "    </tr>\n",
       "    <tr>\n",
       "      <th>129</th>\n",
       "      <td>2018-11-01</td>\n",
       "      <td>23.369009</td>\n",
       "      <td>787.637604</td>\n",
       "    </tr>\n",
       "    <tr>\n",
       "      <th>130</th>\n",
       "      <td>2019-02-01</td>\n",
       "      <td>17.668741</td>\n",
       "      <td>528.341211</td>\n",
       "    </tr>\n",
       "    <tr>\n",
       "      <th>131</th>\n",
       "      <td>2019-05-01</td>\n",
       "      <td>19.709453</td>\n",
       "      <td>548.273350</td>\n",
       "    </tr>\n",
       "    <tr>\n",
       "      <th>132</th>\n",
       "      <td>2019-08-01</td>\n",
       "      <td>26.997818</td>\n",
       "      <td>832.728032</td>\n",
       "    </tr>\n",
       "    <tr>\n",
       "      <th>133</th>\n",
       "      <td>2019-11-01</td>\n",
       "      <td>24.902810</td>\n",
       "      <td>785.058412</td>\n",
       "    </tr>\n",
       "  </tbody>\n",
       "</table>\n",
       "</div>"
      ],
      "text/plain": [
       "    Mid-quarter month  Employed total ('000)  \\\n",
       "102        2012-02-01              26.184923   \n",
       "103        2012-05-01              31.768270   \n",
       "104        2012-08-01              32.453228   \n",
       "105        2012-11-01              27.622757   \n",
       "106        2013-02-01              28.515415   \n",
       "107        2013-05-01              15.986028   \n",
       "108        2013-08-01              23.487987   \n",
       "109        2013-11-01              21.199998   \n",
       "110        2014-02-01              23.467102   \n",
       "111        2014-05-01              26.634632   \n",
       "112        2014-08-01              21.799818   \n",
       "113        2014-11-01              24.651401   \n",
       "114        2015-02-01              22.003466   \n",
       "115        2015-05-01              22.231301   \n",
       "116        2015-08-01              25.062847   \n",
       "117        2015-11-01              30.323120   \n",
       "118        2016-02-01              28.146502   \n",
       "119        2016-05-01              23.984869   \n",
       "120        2016-08-01              24.790099   \n",
       "121        2016-11-01              24.136204   \n",
       "122        2017-02-01              26.551243   \n",
       "123        2017-05-01              24.448557   \n",
       "124        2017-08-01              28.467692   \n",
       "125        2017-11-01              29.106129   \n",
       "126        2018-02-01              24.021422   \n",
       "127        2018-05-01              22.102932   \n",
       "128        2018-08-01              23.865832   \n",
       "129        2018-11-01              23.369009   \n",
       "130        2019-02-01              17.668741   \n",
       "131        2019-05-01              19.709453   \n",
       "132        2019-08-01              26.997818   \n",
       "133        2019-11-01              24.902810   \n",
       "\n",
       "     Number of hours actually worked in all jobs ('000 Hours)  \n",
       "102                                         926.638355         \n",
       "103                                        1168.440190         \n",
       "104                                        1175.121105         \n",
       "105                                         941.773591         \n",
       "106                                         942.216798         \n",
       "107                                         531.356315         \n",
       "108                                         807.733921         \n",
       "109                                         747.433897         \n",
       "110                                         807.547282         \n",
       "111                                        1010.085207         \n",
       "112                                         778.675320         \n",
       "113                                         880.273616         \n",
       "114                                         728.403673         \n",
       "115                                         796.172376         \n",
       "116                                         849.442394         \n",
       "117                                        1067.099322         \n",
       "118                                         906.024154         \n",
       "119                                         871.896006         \n",
       "120                                         677.032066         \n",
       "121                                         679.842839         \n",
       "122                                         866.448586         \n",
       "123                                         804.179717         \n",
       "124                                         914.158587         \n",
       "125                                         935.066704         \n",
       "126                                         846.924384         \n",
       "127                                         674.001950         \n",
       "128                                         777.666833         \n",
       "129                                         787.637604         \n",
       "130                                         528.341211         \n",
       "131                                         548.273350         \n",
       "132                                         832.728032         \n",
       "133                                         785.058412         "
      ]
     },
     "execution_count": 16,
     "metadata": {},
     "output_type": "execute_result"
    }
   ],
   "source": [
    "# We only want to keep 2012 and beyond\n",
    "journalists_grouped = journalists_grouped[journalists_grouped['Mid-quarter month'] >= '2012-01-01']\n",
    "journalists_grouped"
   ]
  },
  {
   "cell_type": "markdown",
   "metadata": {},
   "source": [
    "## Visualise data"
   ]
  },
  {
   "cell_type": "code",
   "execution_count": 22,
   "metadata": {},
   "outputs": [
    {
     "data": {
      "application/vnd.plotly.v1+json": {
       "config": {
        "plotlyServerURL": "https://plot.ly"
       },
       "data": [
        {
         "line": {
          "color": "orange",
          "width": 4
         },
         "name": "Journalists & Other Writers (Unit Level)",
         "type": "scatter",
         "uid": "e6baa31f-f26d-49dd-8a85-25d743891d81",
         "x": [
          "2012-02-01T00:00:00",
          "2012-05-01T00:00:00",
          "2012-08-01T00:00:00",
          "2012-11-01T00:00:00",
          "2013-02-01T00:00:00",
          "2013-05-01T00:00:00",
          "2013-08-01T00:00:00",
          "2013-11-01T00:00:00",
          "2014-02-01T00:00:00",
          "2014-05-01T00:00:00",
          "2014-08-01T00:00:00",
          "2014-11-01T00:00:00",
          "2015-02-01T00:00:00",
          "2015-05-01T00:00:00",
          "2015-08-01T00:00:00",
          "2015-11-01T00:00:00",
          "2016-02-01T00:00:00",
          "2016-05-01T00:00:00",
          "2016-08-01T00:00:00",
          "2016-11-01T00:00:00",
          "2017-02-01T00:00:00",
          "2017-05-01T00:00:00",
          "2017-08-01T00:00:00",
          "2017-11-01T00:00:00",
          "2018-02-01T00:00:00",
          "2018-05-01T00:00:00",
          "2018-08-01T00:00:00",
          "2018-11-01T00:00:00",
          "2019-02-01T00:00:00",
          "2019-05-01T00:00:00",
          "2019-08-01T00:00:00",
          "2019-11-01T00:00:00"
         ],
         "y": [
          26.18492286,
          31.768270499999993,
          32.45322842,
          27.622757330000002,
          28.515415069999996,
          15.98602839,
          23.48798719,
          21.199997829999997,
          23.46710156,
          26.63463169,
          21.799818020000004,
          24.65140096,
          22.003466430000003,
          22.23130133,
          25.062846609999998,
          30.32311969,
          28.14650153,
          23.98486907,
          24.790098790000002,
          24.13620388,
          26.551243299999996,
          24.44855654,
          28.467692449999998,
          29.106128550000005,
          24.021422310000002,
          22.10293188,
          23.865832290000004,
          23.369009199999997,
          17.66874121,
          19.70945312,
          26.997818059999997,
          24.902809740000002
         ]
        }
       ],
       "layout": {
        "font": {
         "color": "#7f7f7f",
         "family": "Arial",
         "size": 20
        },
        "legend": {
         "x": 0,
         "y": 1.3
        },
        "margin": {
         "b": 80,
         "l": 20,
         "r": 20,
         "t": 80
        },
        "template": {
         "data": {
          "bar": [
           {
            "error_x": {
             "color": "#2a3f5f"
            },
            "error_y": {
             "color": "#2a3f5f"
            },
            "marker": {
             "line": {
              "color": "white",
              "width": 0.5
             }
            },
            "type": "bar"
           }
          ],
          "barpolar": [
           {
            "marker": {
             "line": {
              "color": "white",
              "width": 0.5
             }
            },
            "type": "barpolar"
           }
          ],
          "carpet": [
           {
            "aaxis": {
             "endlinecolor": "#2a3f5f",
             "gridcolor": "#C8D4E3",
             "linecolor": "#C8D4E3",
             "minorgridcolor": "#C8D4E3",
             "startlinecolor": "#2a3f5f"
            },
            "baxis": {
             "endlinecolor": "#2a3f5f",
             "gridcolor": "#C8D4E3",
             "linecolor": "#C8D4E3",
             "minorgridcolor": "#C8D4E3",
             "startlinecolor": "#2a3f5f"
            },
            "type": "carpet"
           }
          ],
          "choropleth": [
           {
            "colorbar": {
             "outlinewidth": 0,
             "ticks": ""
            },
            "type": "choropleth"
           }
          ],
          "contour": [
           {
            "colorbar": {
             "outlinewidth": 0,
             "ticks": ""
            },
            "colorscale": [
             [
              0,
              "#0d0887"
             ],
             [
              0.1111111111111111,
              "#46039f"
             ],
             [
              0.2222222222222222,
              "#7201a8"
             ],
             [
              0.3333333333333333,
              "#9c179e"
             ],
             [
              0.4444444444444444,
              "#bd3786"
             ],
             [
              0.5555555555555556,
              "#d8576b"
             ],
             [
              0.6666666666666666,
              "#ed7953"
             ],
             [
              0.7777777777777778,
              "#fb9f3a"
             ],
             [
              0.8888888888888888,
              "#fdca26"
             ],
             [
              1,
              "#f0f921"
             ]
            ],
            "type": "contour"
           }
          ],
          "contourcarpet": [
           {
            "colorbar": {
             "outlinewidth": 0,
             "ticks": ""
            },
            "type": "contourcarpet"
           }
          ],
          "heatmap": [
           {
            "colorbar": {
             "outlinewidth": 0,
             "ticks": ""
            },
            "colorscale": [
             [
              0,
              "#0d0887"
             ],
             [
              0.1111111111111111,
              "#46039f"
             ],
             [
              0.2222222222222222,
              "#7201a8"
             ],
             [
              0.3333333333333333,
              "#9c179e"
             ],
             [
              0.4444444444444444,
              "#bd3786"
             ],
             [
              0.5555555555555556,
              "#d8576b"
             ],
             [
              0.6666666666666666,
              "#ed7953"
             ],
             [
              0.7777777777777778,
              "#fb9f3a"
             ],
             [
              0.8888888888888888,
              "#fdca26"
             ],
             [
              1,
              "#f0f921"
             ]
            ],
            "type": "heatmap"
           }
          ],
          "heatmapgl": [
           {
            "colorbar": {
             "outlinewidth": 0,
             "ticks": ""
            },
            "colorscale": [
             [
              0,
              "#0d0887"
             ],
             [
              0.1111111111111111,
              "#46039f"
             ],
             [
              0.2222222222222222,
              "#7201a8"
             ],
             [
              0.3333333333333333,
              "#9c179e"
             ],
             [
              0.4444444444444444,
              "#bd3786"
             ],
             [
              0.5555555555555556,
              "#d8576b"
             ],
             [
              0.6666666666666666,
              "#ed7953"
             ],
             [
              0.7777777777777778,
              "#fb9f3a"
             ],
             [
              0.8888888888888888,
              "#fdca26"
             ],
             [
              1,
              "#f0f921"
             ]
            ],
            "type": "heatmapgl"
           }
          ],
          "histogram": [
           {
            "marker": {
             "colorbar": {
              "outlinewidth": 0,
              "ticks": ""
             }
            },
            "type": "histogram"
           }
          ],
          "histogram2d": [
           {
            "colorbar": {
             "outlinewidth": 0,
             "ticks": ""
            },
            "colorscale": [
             [
              0,
              "#0d0887"
             ],
             [
              0.1111111111111111,
              "#46039f"
             ],
             [
              0.2222222222222222,
              "#7201a8"
             ],
             [
              0.3333333333333333,
              "#9c179e"
             ],
             [
              0.4444444444444444,
              "#bd3786"
             ],
             [
              0.5555555555555556,
              "#d8576b"
             ],
             [
              0.6666666666666666,
              "#ed7953"
             ],
             [
              0.7777777777777778,
              "#fb9f3a"
             ],
             [
              0.8888888888888888,
              "#fdca26"
             ],
             [
              1,
              "#f0f921"
             ]
            ],
            "type": "histogram2d"
           }
          ],
          "histogram2dcontour": [
           {
            "colorbar": {
             "outlinewidth": 0,
             "ticks": ""
            },
            "colorscale": [
             [
              0,
              "#0d0887"
             ],
             [
              0.1111111111111111,
              "#46039f"
             ],
             [
              0.2222222222222222,
              "#7201a8"
             ],
             [
              0.3333333333333333,
              "#9c179e"
             ],
             [
              0.4444444444444444,
              "#bd3786"
             ],
             [
              0.5555555555555556,
              "#d8576b"
             ],
             [
              0.6666666666666666,
              "#ed7953"
             ],
             [
              0.7777777777777778,
              "#fb9f3a"
             ],
             [
              0.8888888888888888,
              "#fdca26"
             ],
             [
              1,
              "#f0f921"
             ]
            ],
            "type": "histogram2dcontour"
           }
          ],
          "mesh3d": [
           {
            "colorbar": {
             "outlinewidth": 0,
             "ticks": ""
            },
            "type": "mesh3d"
           }
          ],
          "parcoords": [
           {
            "line": {
             "colorbar": {
              "outlinewidth": 0,
              "ticks": ""
             }
            },
            "type": "parcoords"
           }
          ],
          "pie": [
           {
            "automargin": true,
            "type": "pie"
           }
          ],
          "scatter": [
           {
            "marker": {
             "colorbar": {
              "outlinewidth": 0,
              "ticks": ""
             }
            },
            "type": "scatter"
           }
          ],
          "scatter3d": [
           {
            "line": {
             "colorbar": {
              "outlinewidth": 0,
              "ticks": ""
             }
            },
            "marker": {
             "colorbar": {
              "outlinewidth": 0,
              "ticks": ""
             }
            },
            "type": "scatter3d"
           }
          ],
          "scattercarpet": [
           {
            "marker": {
             "colorbar": {
              "outlinewidth": 0,
              "ticks": ""
             }
            },
            "type": "scattercarpet"
           }
          ],
          "scattergeo": [
           {
            "marker": {
             "colorbar": {
              "outlinewidth": 0,
              "ticks": ""
             }
            },
            "type": "scattergeo"
           }
          ],
          "scattergl": [
           {
            "marker": {
             "colorbar": {
              "outlinewidth": 0,
              "ticks": ""
             }
            },
            "type": "scattergl"
           }
          ],
          "scattermapbox": [
           {
            "marker": {
             "colorbar": {
              "outlinewidth": 0,
              "ticks": ""
             }
            },
            "type": "scattermapbox"
           }
          ],
          "scatterpolar": [
           {
            "marker": {
             "colorbar": {
              "outlinewidth": 0,
              "ticks": ""
             }
            },
            "type": "scatterpolar"
           }
          ],
          "scatterpolargl": [
           {
            "marker": {
             "colorbar": {
              "outlinewidth": 0,
              "ticks": ""
             }
            },
            "type": "scatterpolargl"
           }
          ],
          "scatterternary": [
           {
            "marker": {
             "colorbar": {
              "outlinewidth": 0,
              "ticks": ""
             }
            },
            "type": "scatterternary"
           }
          ],
          "surface": [
           {
            "colorbar": {
             "outlinewidth": 0,
             "ticks": ""
            },
            "colorscale": [
             [
              0,
              "#0d0887"
             ],
             [
              0.1111111111111111,
              "#46039f"
             ],
             [
              0.2222222222222222,
              "#7201a8"
             ],
             [
              0.3333333333333333,
              "#9c179e"
             ],
             [
              0.4444444444444444,
              "#bd3786"
             ],
             [
              0.5555555555555556,
              "#d8576b"
             ],
             [
              0.6666666666666666,
              "#ed7953"
             ],
             [
              0.7777777777777778,
              "#fb9f3a"
             ],
             [
              0.8888888888888888,
              "#fdca26"
             ],
             [
              1,
              "#f0f921"
             ]
            ],
            "type": "surface"
           }
          ],
          "table": [
           {
            "cells": {
             "fill": {
              "color": "#EBF0F8"
             },
             "line": {
              "color": "white"
             }
            },
            "header": {
             "fill": {
              "color": "#C8D4E3"
             },
             "line": {
              "color": "white"
             }
            },
            "type": "table"
           }
          ]
         },
         "layout": {
          "annotationdefaults": {
           "arrowcolor": "#2a3f5f",
           "arrowhead": 0,
           "arrowwidth": 1
          },
          "coloraxis": {
           "colorbar": {
            "outlinewidth": 0,
            "ticks": ""
           }
          },
          "colorscale": {
           "diverging": [
            [
             0,
             "#8e0152"
            ],
            [
             0.1,
             "#c51b7d"
            ],
            [
             0.2,
             "#de77ae"
            ],
            [
             0.3,
             "#f1b6da"
            ],
            [
             0.4,
             "#fde0ef"
            ],
            [
             0.5,
             "#f7f7f7"
            ],
            [
             0.6,
             "#e6f5d0"
            ],
            [
             0.7,
             "#b8e186"
            ],
            [
             0.8,
             "#7fbc41"
            ],
            [
             0.9,
             "#4d9221"
            ],
            [
             1,
             "#276419"
            ]
           ],
           "sequential": [
            [
             0,
             "#0d0887"
            ],
            [
             0.1111111111111111,
             "#46039f"
            ],
            [
             0.2222222222222222,
             "#7201a8"
            ],
            [
             0.3333333333333333,
             "#9c179e"
            ],
            [
             0.4444444444444444,
             "#bd3786"
            ],
            [
             0.5555555555555556,
             "#d8576b"
            ],
            [
             0.6666666666666666,
             "#ed7953"
            ],
            [
             0.7777777777777778,
             "#fb9f3a"
            ],
            [
             0.8888888888888888,
             "#fdca26"
            ],
            [
             1,
             "#f0f921"
            ]
           ],
           "sequentialminus": [
            [
             0,
             "#0d0887"
            ],
            [
             0.1111111111111111,
             "#46039f"
            ],
            [
             0.2222222222222222,
             "#7201a8"
            ],
            [
             0.3333333333333333,
             "#9c179e"
            ],
            [
             0.4444444444444444,
             "#bd3786"
            ],
            [
             0.5555555555555556,
             "#d8576b"
            ],
            [
             0.6666666666666666,
             "#ed7953"
            ],
            [
             0.7777777777777778,
             "#fb9f3a"
            ],
            [
             0.8888888888888888,
             "#fdca26"
            ],
            [
             1,
             "#f0f921"
            ]
           ]
          },
          "colorway": [
           "#636efa",
           "#EF553B",
           "#00cc96",
           "#ab63fa",
           "#FFA15A",
           "#19d3f3",
           "#FF6692",
           "#B6E880",
           "#FF97FF",
           "#FECB52"
          ],
          "font": {
           "color": "#2a3f5f"
          },
          "geo": {
           "bgcolor": "white",
           "lakecolor": "white",
           "landcolor": "white",
           "showlakes": true,
           "showland": true,
           "subunitcolor": "#C8D4E3"
          },
          "hoverlabel": {
           "align": "left"
          },
          "hovermode": "closest",
          "mapbox": {
           "style": "light"
          },
          "paper_bgcolor": "white",
          "plot_bgcolor": "white",
          "polar": {
           "angularaxis": {
            "gridcolor": "#EBF0F8",
            "linecolor": "#EBF0F8",
            "ticks": ""
           },
           "bgcolor": "white",
           "radialaxis": {
            "gridcolor": "#EBF0F8",
            "linecolor": "#EBF0F8",
            "ticks": ""
           }
          },
          "scene": {
           "xaxis": {
            "backgroundcolor": "white",
            "gridcolor": "#DFE8F3",
            "gridwidth": 2,
            "linecolor": "#EBF0F8",
            "showbackground": true,
            "ticks": "",
            "zerolinecolor": "#EBF0F8"
           },
           "yaxis": {
            "backgroundcolor": "white",
            "gridcolor": "#DFE8F3",
            "gridwidth": 2,
            "linecolor": "#EBF0F8",
            "showbackground": true,
            "ticks": "",
            "zerolinecolor": "#EBF0F8"
           },
           "zaxis": {
            "backgroundcolor": "white",
            "gridcolor": "#DFE8F3",
            "gridwidth": 2,
            "linecolor": "#EBF0F8",
            "showbackground": true,
            "ticks": "",
            "zerolinecolor": "#EBF0F8"
           }
          },
          "shapedefaults": {
           "line": {
            "color": "#2a3f5f"
           }
          },
          "ternary": {
           "aaxis": {
            "gridcolor": "#DFE8F3",
            "linecolor": "#A2B1C6",
            "ticks": ""
           },
           "baxis": {
            "gridcolor": "#DFE8F3",
            "linecolor": "#A2B1C6",
            "ticks": ""
           },
           "bgcolor": "white",
           "caxis": {
            "gridcolor": "#DFE8F3",
            "linecolor": "#A2B1C6",
            "ticks": ""
           }
          },
          "title": {
           "x": 0.05
          },
          "xaxis": {
           "automargin": true,
           "gridcolor": "#EBF0F8",
           "linecolor": "#EBF0F8",
           "ticks": "",
           "title": {
            "standoff": 15
           },
           "zerolinecolor": "#EBF0F8",
           "zerolinewidth": 2
          },
          "yaxis": {
           "automargin": true,
           "gridcolor": "#EBF0F8",
           "linecolor": "#EBF0F8",
           "ticks": "",
           "title": {
            "standoff": 15
           },
           "zerolinecolor": "#EBF0F8",
           "zerolinewidth": 2
          }
         }
        },
        "xaxis": {
         "anchor": "y",
         "domain": [
          0,
          0.94
         ],
         "showgrid": true,
         "tickcolor": "white",
         "ticklen": 10,
         "ticks": "outside",
         "tickwidth": 2
        },
        "yaxis": {
         "anchor": "x",
         "domain": [
          0,
          1
         ],
         "showgrid": true,
         "title": {
          "text": "Journalists Employed Quarterly (000's)"
         },
         "zeroline": true,
         "zerolinewidth": 10
        },
        "yaxis2": {
         "anchor": "x",
         "overlaying": "y",
         "showgrid": true,
         "side": "right",
         "zeroline": true,
         "zerolinewidth": 10
        }
       }
      },
      "text/html": [
       "<div>\n",
       "        \n",
       "        \n",
       "            <div id=\"5e095580-e7b0-4af4-b516-1664e03f2f2a\" class=\"plotly-graph-div\" style=\"height:525px; width:100%;\"></div>\n",
       "            <script type=\"text/javascript\">\n",
       "                require([\"plotly\"], function(Plotly) {\n",
       "                    window.PLOTLYENV=window.PLOTLYENV || {};\n",
       "                    \n",
       "                if (document.getElementById(\"5e095580-e7b0-4af4-b516-1664e03f2f2a\")) {\n",
       "                    Plotly.newPlot(\n",
       "                        '5e095580-e7b0-4af4-b516-1664e03f2f2a',\n",
       "                        [{\"line\": {\"color\": \"orange\", \"width\": 4}, \"name\": \"Journalists & Other Writers (Unit Level)\", \"type\": \"scatter\", \"uid\": \"e6baa31f-f26d-49dd-8a85-25d743891d81\", \"x\": [\"2012-02-01T00:00:00\", \"2012-05-01T00:00:00\", \"2012-08-01T00:00:00\", \"2012-11-01T00:00:00\", \"2013-02-01T00:00:00\", \"2013-05-01T00:00:00\", \"2013-08-01T00:00:00\", \"2013-11-01T00:00:00\", \"2014-02-01T00:00:00\", \"2014-05-01T00:00:00\", \"2014-08-01T00:00:00\", \"2014-11-01T00:00:00\", \"2015-02-01T00:00:00\", \"2015-05-01T00:00:00\", \"2015-08-01T00:00:00\", \"2015-11-01T00:00:00\", \"2016-02-01T00:00:00\", \"2016-05-01T00:00:00\", \"2016-08-01T00:00:00\", \"2016-11-01T00:00:00\", \"2017-02-01T00:00:00\", \"2017-05-01T00:00:00\", \"2017-08-01T00:00:00\", \"2017-11-01T00:00:00\", \"2018-02-01T00:00:00\", \"2018-05-01T00:00:00\", \"2018-08-01T00:00:00\", \"2018-11-01T00:00:00\", \"2019-02-01T00:00:00\", \"2019-05-01T00:00:00\", \"2019-08-01T00:00:00\", \"2019-11-01T00:00:00\"], \"y\": [26.18492286, 31.768270499999993, 32.45322842, 27.622757330000002, 28.515415069999996, 15.98602839, 23.48798719, 21.199997829999997, 23.46710156, 26.63463169, 21.799818020000004, 24.65140096, 22.003466430000003, 22.23130133, 25.062846609999998, 30.32311969, 28.14650153, 23.98486907, 24.790098790000002, 24.13620388, 26.551243299999996, 24.44855654, 28.467692449999998, 29.106128550000005, 24.021422310000002, 22.10293188, 23.865832290000004, 23.369009199999997, 17.66874121, 19.70945312, 26.997818059999997, 24.902809740000002]}],\n",
       "                        {\"font\": {\"color\": \"#7f7f7f\", \"family\": \"Arial\", \"size\": 20}, \"legend\": {\"x\": 0, \"y\": 1.3}, \"margin\": {\"b\": 80, \"l\": 20, \"r\": 20, \"t\": 80}, \"template\": {\"data\": {\"bar\": [{\"error_x\": {\"color\": \"#2a3f5f\"}, \"error_y\": {\"color\": \"#2a3f5f\"}, \"marker\": {\"line\": {\"color\": \"white\", \"width\": 0.5}}, \"type\": \"bar\"}], \"barpolar\": [{\"marker\": {\"line\": {\"color\": \"white\", \"width\": 0.5}}, \"type\": \"barpolar\"}], \"carpet\": [{\"aaxis\": {\"endlinecolor\": \"#2a3f5f\", \"gridcolor\": \"#C8D4E3\", \"linecolor\": \"#C8D4E3\", \"minorgridcolor\": \"#C8D4E3\", \"startlinecolor\": \"#2a3f5f\"}, \"baxis\": {\"endlinecolor\": \"#2a3f5f\", \"gridcolor\": \"#C8D4E3\", \"linecolor\": \"#C8D4E3\", \"minorgridcolor\": \"#C8D4E3\", \"startlinecolor\": \"#2a3f5f\"}, \"type\": \"carpet\"}], \"choropleth\": [{\"colorbar\": {\"outlinewidth\": 0, \"ticks\": \"\"}, \"type\": \"choropleth\"}], \"contour\": [{\"colorbar\": {\"outlinewidth\": 0, \"ticks\": \"\"}, \"colorscale\": [[0.0, \"#0d0887\"], [0.1111111111111111, \"#46039f\"], [0.2222222222222222, \"#7201a8\"], [0.3333333333333333, \"#9c179e\"], [0.4444444444444444, \"#bd3786\"], [0.5555555555555556, \"#d8576b\"], [0.6666666666666666, \"#ed7953\"], [0.7777777777777778, \"#fb9f3a\"], [0.8888888888888888, \"#fdca26\"], [1.0, \"#f0f921\"]], \"type\": \"contour\"}], \"contourcarpet\": [{\"colorbar\": {\"outlinewidth\": 0, \"ticks\": \"\"}, \"type\": \"contourcarpet\"}], \"heatmap\": [{\"colorbar\": {\"outlinewidth\": 0, \"ticks\": \"\"}, \"colorscale\": [[0.0, \"#0d0887\"], [0.1111111111111111, \"#46039f\"], [0.2222222222222222, \"#7201a8\"], [0.3333333333333333, \"#9c179e\"], [0.4444444444444444, \"#bd3786\"], [0.5555555555555556, \"#d8576b\"], [0.6666666666666666, \"#ed7953\"], [0.7777777777777778, \"#fb9f3a\"], [0.8888888888888888, \"#fdca26\"], [1.0, \"#f0f921\"]], \"type\": \"heatmap\"}], \"heatmapgl\": [{\"colorbar\": {\"outlinewidth\": 0, \"ticks\": \"\"}, \"colorscale\": [[0.0, \"#0d0887\"], [0.1111111111111111, \"#46039f\"], [0.2222222222222222, \"#7201a8\"], [0.3333333333333333, \"#9c179e\"], [0.4444444444444444, \"#bd3786\"], [0.5555555555555556, \"#d8576b\"], [0.6666666666666666, \"#ed7953\"], [0.7777777777777778, \"#fb9f3a\"], [0.8888888888888888, \"#fdca26\"], [1.0, \"#f0f921\"]], \"type\": \"heatmapgl\"}], \"histogram\": [{\"marker\": {\"colorbar\": {\"outlinewidth\": 0, \"ticks\": \"\"}}, \"type\": \"histogram\"}], \"histogram2d\": [{\"colorbar\": {\"outlinewidth\": 0, \"ticks\": \"\"}, \"colorscale\": [[0.0, \"#0d0887\"], [0.1111111111111111, \"#46039f\"], [0.2222222222222222, \"#7201a8\"], [0.3333333333333333, \"#9c179e\"], [0.4444444444444444, \"#bd3786\"], [0.5555555555555556, \"#d8576b\"], [0.6666666666666666, \"#ed7953\"], [0.7777777777777778, \"#fb9f3a\"], [0.8888888888888888, \"#fdca26\"], [1.0, \"#f0f921\"]], \"type\": \"histogram2d\"}], \"histogram2dcontour\": [{\"colorbar\": {\"outlinewidth\": 0, \"ticks\": \"\"}, \"colorscale\": [[0.0, \"#0d0887\"], [0.1111111111111111, \"#46039f\"], [0.2222222222222222, \"#7201a8\"], [0.3333333333333333, \"#9c179e\"], [0.4444444444444444, \"#bd3786\"], [0.5555555555555556, \"#d8576b\"], [0.6666666666666666, \"#ed7953\"], [0.7777777777777778, \"#fb9f3a\"], [0.8888888888888888, \"#fdca26\"], [1.0, \"#f0f921\"]], \"type\": \"histogram2dcontour\"}], \"mesh3d\": [{\"colorbar\": {\"outlinewidth\": 0, \"ticks\": \"\"}, \"type\": \"mesh3d\"}], \"parcoords\": [{\"line\": {\"colorbar\": {\"outlinewidth\": 0, \"ticks\": \"\"}}, \"type\": \"parcoords\"}], \"pie\": [{\"automargin\": true, \"type\": \"pie\"}], \"scatter\": [{\"marker\": {\"colorbar\": {\"outlinewidth\": 0, \"ticks\": \"\"}}, \"type\": \"scatter\"}], \"scatter3d\": [{\"line\": {\"colorbar\": {\"outlinewidth\": 0, \"ticks\": \"\"}}, \"marker\": {\"colorbar\": {\"outlinewidth\": 0, \"ticks\": \"\"}}, \"type\": \"scatter3d\"}], \"scattercarpet\": [{\"marker\": {\"colorbar\": {\"outlinewidth\": 0, \"ticks\": \"\"}}, \"type\": \"scattercarpet\"}], \"scattergeo\": [{\"marker\": {\"colorbar\": {\"outlinewidth\": 0, \"ticks\": \"\"}}, \"type\": \"scattergeo\"}], \"scattergl\": [{\"marker\": {\"colorbar\": {\"outlinewidth\": 0, \"ticks\": \"\"}}, \"type\": \"scattergl\"}], \"scattermapbox\": [{\"marker\": {\"colorbar\": {\"outlinewidth\": 0, \"ticks\": \"\"}}, \"type\": \"scattermapbox\"}], \"scatterpolar\": [{\"marker\": {\"colorbar\": {\"outlinewidth\": 0, \"ticks\": \"\"}}, \"type\": \"scatterpolar\"}], \"scatterpolargl\": [{\"marker\": {\"colorbar\": {\"outlinewidth\": 0, \"ticks\": \"\"}}, \"type\": \"scatterpolargl\"}], \"scatterternary\": [{\"marker\": {\"colorbar\": {\"outlinewidth\": 0, \"ticks\": \"\"}}, \"type\": \"scatterternary\"}], \"surface\": [{\"colorbar\": {\"outlinewidth\": 0, \"ticks\": \"\"}, \"colorscale\": [[0.0, \"#0d0887\"], [0.1111111111111111, \"#46039f\"], [0.2222222222222222, \"#7201a8\"], [0.3333333333333333, \"#9c179e\"], [0.4444444444444444, \"#bd3786\"], [0.5555555555555556, \"#d8576b\"], [0.6666666666666666, \"#ed7953\"], [0.7777777777777778, \"#fb9f3a\"], [0.8888888888888888, \"#fdca26\"], [1.0, \"#f0f921\"]], \"type\": \"surface\"}], \"table\": [{\"cells\": {\"fill\": {\"color\": \"#EBF0F8\"}, \"line\": {\"color\": \"white\"}}, \"header\": {\"fill\": {\"color\": \"#C8D4E3\"}, \"line\": {\"color\": \"white\"}}, \"type\": \"table\"}]}, \"layout\": {\"annotationdefaults\": {\"arrowcolor\": \"#2a3f5f\", \"arrowhead\": 0, \"arrowwidth\": 1}, \"coloraxis\": {\"colorbar\": {\"outlinewidth\": 0, \"ticks\": \"\"}}, \"colorscale\": {\"diverging\": [[0, \"#8e0152\"], [0.1, \"#c51b7d\"], [0.2, \"#de77ae\"], [0.3, \"#f1b6da\"], [0.4, \"#fde0ef\"], [0.5, \"#f7f7f7\"], [0.6, \"#e6f5d0\"], [0.7, \"#b8e186\"], [0.8, \"#7fbc41\"], [0.9, \"#4d9221\"], [1, \"#276419\"]], \"sequential\": [[0.0, \"#0d0887\"], [0.1111111111111111, \"#46039f\"], [0.2222222222222222, \"#7201a8\"], [0.3333333333333333, \"#9c179e\"], [0.4444444444444444, \"#bd3786\"], [0.5555555555555556, \"#d8576b\"], [0.6666666666666666, \"#ed7953\"], [0.7777777777777778, \"#fb9f3a\"], [0.8888888888888888, \"#fdca26\"], [1.0, \"#f0f921\"]], \"sequentialminus\": [[0.0, \"#0d0887\"], [0.1111111111111111, \"#46039f\"], [0.2222222222222222, \"#7201a8\"], [0.3333333333333333, \"#9c179e\"], [0.4444444444444444, \"#bd3786\"], [0.5555555555555556, \"#d8576b\"], [0.6666666666666666, \"#ed7953\"], [0.7777777777777778, \"#fb9f3a\"], [0.8888888888888888, \"#fdca26\"], [1.0, \"#f0f921\"]]}, \"colorway\": [\"#636efa\", \"#EF553B\", \"#00cc96\", \"#ab63fa\", \"#FFA15A\", \"#19d3f3\", \"#FF6692\", \"#B6E880\", \"#FF97FF\", \"#FECB52\"], \"font\": {\"color\": \"#2a3f5f\"}, \"geo\": {\"bgcolor\": \"white\", \"lakecolor\": \"white\", \"landcolor\": \"white\", \"showlakes\": true, \"showland\": true, \"subunitcolor\": \"#C8D4E3\"}, \"hoverlabel\": {\"align\": \"left\"}, \"hovermode\": \"closest\", \"mapbox\": {\"style\": \"light\"}, \"paper_bgcolor\": \"white\", \"plot_bgcolor\": \"white\", \"polar\": {\"angularaxis\": {\"gridcolor\": \"#EBF0F8\", \"linecolor\": \"#EBF0F8\", \"ticks\": \"\"}, \"bgcolor\": \"white\", \"radialaxis\": {\"gridcolor\": \"#EBF0F8\", \"linecolor\": \"#EBF0F8\", \"ticks\": \"\"}}, \"scene\": {\"xaxis\": {\"backgroundcolor\": \"white\", \"gridcolor\": \"#DFE8F3\", \"gridwidth\": 2, \"linecolor\": \"#EBF0F8\", \"showbackground\": true, \"ticks\": \"\", \"zerolinecolor\": \"#EBF0F8\"}, \"yaxis\": {\"backgroundcolor\": \"white\", \"gridcolor\": \"#DFE8F3\", \"gridwidth\": 2, \"linecolor\": \"#EBF0F8\", \"showbackground\": true, \"ticks\": \"\", \"zerolinecolor\": \"#EBF0F8\"}, \"zaxis\": {\"backgroundcolor\": \"white\", \"gridcolor\": \"#DFE8F3\", \"gridwidth\": 2, \"linecolor\": \"#EBF0F8\", \"showbackground\": true, \"ticks\": \"\", \"zerolinecolor\": \"#EBF0F8\"}}, \"shapedefaults\": {\"line\": {\"color\": \"#2a3f5f\"}}, \"ternary\": {\"aaxis\": {\"gridcolor\": \"#DFE8F3\", \"linecolor\": \"#A2B1C6\", \"ticks\": \"\"}, \"baxis\": {\"gridcolor\": \"#DFE8F3\", \"linecolor\": \"#A2B1C6\", \"ticks\": \"\"}, \"bgcolor\": \"white\", \"caxis\": {\"gridcolor\": \"#DFE8F3\", \"linecolor\": \"#A2B1C6\", \"ticks\": \"\"}}, \"title\": {\"x\": 0.05}, \"xaxis\": {\"automargin\": true, \"gridcolor\": \"#EBF0F8\", \"linecolor\": \"#EBF0F8\", \"ticks\": \"\", \"title\": {\"standoff\": 15}, \"zerolinecolor\": \"#EBF0F8\", \"zerolinewidth\": 2}, \"yaxis\": {\"automargin\": true, \"gridcolor\": \"#EBF0F8\", \"linecolor\": \"#EBF0F8\", \"ticks\": \"\", \"title\": {\"standoff\": 15}, \"zerolinecolor\": \"#EBF0F8\", \"zerolinewidth\": 2}}}, \"xaxis\": {\"anchor\": \"y\", \"domain\": [0.0, 0.94], \"showgrid\": true, \"tickcolor\": \"white\", \"ticklen\": 10, \"ticks\": \"outside\", \"tickwidth\": 2}, \"yaxis\": {\"anchor\": \"x\", \"domain\": [0.0, 1.0], \"showgrid\": true, \"title\": {\"text\": \"Journalists Employed Quarterly (000's)\"}, \"zeroline\": true, \"zerolinewidth\": 10}, \"yaxis2\": {\"anchor\": \"x\", \"overlaying\": \"y\", \"showgrid\": true, \"side\": \"right\", \"zeroline\": true, \"zerolinewidth\": 10}},\n",
       "                        {\"responsive\": true}\n",
       "                    ).then(function(){\n",
       "                            \n",
       "var gd = document.getElementById('5e095580-e7b0-4af4-b516-1664e03f2f2a');\n",
       "var x = new MutationObserver(function (mutations, observer) {{\n",
       "        var display = window.getComputedStyle(gd).display;\n",
       "        if (!display || display === 'none') {{\n",
       "            console.log([gd, 'removed!']);\n",
       "            Plotly.purge(gd);\n",
       "            observer.disconnect();\n",
       "        }}\n",
       "}});\n",
       "\n",
       "// Listen for the removal of the full notebook cells\n",
       "var notebookContainer = gd.closest('#notebook-container');\n",
       "if (notebookContainer) {{\n",
       "    x.observe(notebookContainer, {childList: true});\n",
       "}}\n",
       "\n",
       "// Listen for the clearing of the current output cell\n",
       "var outputEl = gd.closest('.output');\n",
       "if (outputEl) {{\n",
       "    x.observe(outputEl, {childList: true});\n",
       "}}\n",
       "\n",
       "                        })\n",
       "                };\n",
       "                });\n",
       "            </script>\n",
       "        </div>"
      ]
     },
     "metadata": {},
     "output_type": "display_data"
    }
   ],
   "source": [
    "x = journalists_grouped['Mid-quarter month']\n",
    "y0 = journalists_grouped[\"Employed total ('000)\"]\n",
    "\n",
    "\n",
    "# Create figure with secondary y-axis\n",
    "fig = make_subplots(specs=[[{\"secondary_y\": True}]])\n",
    "\n",
    "fig.add_trace(\n",
    "    go.Scatter(x=x, y=y0,\n",
    "               name=\"Journalists & Other Writers (Unit Level)\",\n",
    "              line = dict(color='orange', width=4))\n",
    ")\n",
    "\n",
    "# Add figure title\n",
    "fig.update_layout(\n",
    "    yaxis_title=\"Journalists Employed Quarterly (000's)\",\n",
    "    font=dict(\n",
    "        family=\"Arial\",\n",
    "        size=20,\n",
    "        color=\"#7f7f7f\"),\n",
    "    margin=dict(l=20, r=20, t=80, b=80),\n",
    "    legend=dict(x=0, y=1.3)\n",
    ")\n",
    "\n",
    "# Set x-axis title\n",
    "# fig.update_xaxes(title_text=\"Quarter\")\n",
    "\n",
    "fig.update_xaxes(showgrid=True, ticks=\"outside\", tickwidth=2, tickcolor='white', ticklen=10)\n",
    "fig.update_yaxes(zeroline=True, zerolinewidth=10, showgrid=True)\n",
    "\n",
    "fig = go.FigureWidget(fig)\n",
    "fig.layout.template = 'plotly_white'\n",
    "\n",
    "fig.show()"
   ]
  },
  {
   "cell_type": "code",
   "execution_count": null,
   "metadata": {},
   "outputs": [],
   "source": []
  }
 ],
 "metadata": {
  "kernelspec": {
   "display_name": "Python 3",
   "language": "python",
   "name": "python3"
  },
  "language_info": {
   "codemirror_mode": {
    "name": "ipython",
    "version": 3
   },
   "file_extension": ".py",
   "mimetype": "text/x-python",
   "name": "python",
   "nbconvert_exporter": "python",
   "pygments_lexer": "ipython3",
   "version": "3.7.6"
  }
 },
 "nbformat": 4,
 "nbformat_minor": 4
}
